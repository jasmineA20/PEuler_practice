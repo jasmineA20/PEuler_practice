{
  "nbformat": 4,
  "nbformat_minor": 0,
  "metadata": {
    "colab": {
      "name": "Untitled21.ipynb",
      "provenance": [],
      "authorship_tag": "ABX9TyNKOijayp6NwSz+vs0VxW2z",
      "include_colab_link": true
    },
    "kernelspec": {
      "name": "python3",
      "display_name": "Python 3"
    },
    "language_info": {
      "name": "python"
    }
  },
  "cells": [
    {
      "cell_type": "markdown",
      "metadata": {
        "id": "view-in-github",
        "colab_type": "text"
      },
      "source": [
        "<a href=\"https://colab.research.google.com/github/jasmineA20/PEuler_practice/blob/main/10001_stprime.ipynb\" target=\"_parent\"><img src=\"https://colab.research.google.com/assets/colab-badge.svg\" alt=\"Open In Colab\"/></a>"
      ]
    },
    {
      "cell_type": "code",
      "metadata": {
        "id": "YiOLzeA4LTrs"
      },
      "source": [
        "import math \n",
        "import numpy as np"
      ],
      "execution_count": null,
      "outputs": []
    },
    {
      "cell_type": "code",
      "metadata": {
        "id": "-g1ZZA6gLWcJ"
      },
      "source": [
        "def is_prime(n):\n",
        "  if ( n % 2 == 0):\n",
        "     return False\n",
        "  else:\n",
        "    #any prime factor of an integer cannot be greater than the square root of the integer\n",
        "    #only need to check odd numbers \n",
        "    for i in range( 3,int(np.sqrt(n)+1),2): \n",
        "      if n % i == 0 : \n",
        "        return False\n",
        "  return True"
      ],
      "execution_count": null,
      "outputs": []
    },
    {
      "cell_type": "code",
      "metadata": {
        "id": "S4bobUtVMAD_"
      },
      "source": [
        "def find_nprime(k):\n",
        "  c = 6            \n",
        "  i = 14           #first six primes 2,3,5,7,11,13\n",
        "  while (True):\n",
        "    if is_prime(i):\n",
        "      c += 1\n",
        "    if c == k: \n",
        "      break\n",
        "    i += 1 \n",
        "  return i"
      ],
      "execution_count": null,
      "outputs": []
    },
    {
      "cell_type": "code",
      "metadata": {
        "colab": {
          "base_uri": "https://localhost:8080/"
        },
        "id": "Uof-Pw8GMx4C",
        "outputId": "3fc57ea8-26bb-4a0b-d1f3-88072f77426d"
      },
      "source": [
        "k = int(input(\"enter the nth prime to find\"))\n",
        "prime_found = find_nprime(k)\n",
        "print(k , \"th prime is \", prime_found)"
      ],
      "execution_count": null,
      "outputs": [
        {
          "output_type": "stream",
          "name": "stdout",
          "text": [
            "enter the nth prime to find10001\n",
            "10001 th prime is  104743\n"
          ]
        }
      ]
    },
    {
      "cell_type": "code",
      "metadata": {
        "id": "gLjWnDqlM5jo"
      },
      "source": [
        ""
      ],
      "execution_count": null,
      "outputs": []
    }
  ]
}