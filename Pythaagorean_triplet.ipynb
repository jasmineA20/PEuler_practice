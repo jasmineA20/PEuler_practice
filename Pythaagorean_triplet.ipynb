{
  "nbformat": 4,
  "nbformat_minor": 0,
  "metadata": {
    "colab": {
      "name": "Untitled23.ipynb",
      "provenance": [],
      "authorship_tag": "ABX9TyOSJ/zdZdafq3BYlUdRE4bz",
      "include_colab_link": true
    },
    "kernelspec": {
      "name": "python3",
      "display_name": "Python 3"
    },
    "language_info": {
      "name": "python"
    }
  },
  "cells": [
    {
      "cell_type": "markdown",
      "metadata": {
        "id": "view-in-github",
        "colab_type": "text"
      },
      "source": [
        "<a href=\"https://colab.research.google.com/github/jasmineA20/PEuler_practice/blob/main/Pythaagorean_triplet.ipynb\" target=\"_parent\"><img src=\"https://colab.research.google.com/assets/colab-badge.svg\" alt=\"Open In Colab\"/></a>"
      ]
    },
    {
      "cell_type": "markdown",
      "metadata": {
        "id": "5rnU-iBLgAxr"
      },
      "source": [
        "A Pythagorean triplet is a set of three natural numbers, a < b < c, for which,\n",
        "\n",
        "$a^2 + b^2 = c^2$\n",
        "For example, 32 + 42 = 9 + 16 = 25 = 52.\n",
        "\n",
        "There exists exactly one Pythagorean triplet for which a + b + c = 1000.\n",
        "Find the product abc.\n"
      ]
    },
    {
      "cell_type": "markdown",
      "metadata": {
        "id": "hL_8lyBTgLBA"
      },
      "source": [
        "$a^2 + b^2 = c^2$ and, a + b + c = 1000 => c = 1000 - (a+b)\n",
        "\n",
        "n = 1000\n",
        "\n",
        "\n"
      ]
    },
    {
      "cell_type": "code",
      "metadata": {
        "id": "Z5R4DTpwYk1L",
        "colab": {
          "base_uri": "https://localhost:8080/"
        },
        "outputId": "9dd0cba4-6419-473c-bc49-2e576e44b7a5"
      },
      "source": [
        "def triplet(n):\n",
        "  for i in range(1, n):\n",
        "      for j in range(i, n - i):\n",
        "          k = n - i - j\n",
        "          if i * i + j * j == k * k:\n",
        "              return(i, j, k)\n",
        "\n",
        "n = 1000\n",
        "a,b,c = triplet(n)\n",
        "product = a*b*c\n",
        "print(\"The triplet is \",a,b,c)\n",
        "print(product)                "
      ],
      "execution_count": null,
      "outputs": [
        {
          "output_type": "stream",
          "name": "stdout",
          "text": [
            "The triplet is  200 375 425\n",
            "31875000\n"
          ]
        }
      ]
    },
    {
      "cell_type": "markdown",
      "metadata": {
        "id": "Ky_2emrjbUSz"
      },
      "source": [
        "\n",
        "$a^2 + b^2 = (n - (a+b))^2$ \\\\\n",
        "$a^2 + b^2 = n^2 + (a+b)^2 - n(a+b)$\\\\\n",
        "$a^2 + b^2 = n^2 + a^2 + 2ab + b^2 - 2n(a+b)$\\\\\n",
        "$2n(a+b) = n^2 + 2ab$ \\\\\n",
        "$2nb - 2ab = n^2 - 2na$ \\\\\n",
        "$b = \\frac{n(n - 2a)}{2(n-a)}$  "
      ]
    }
  ]
}