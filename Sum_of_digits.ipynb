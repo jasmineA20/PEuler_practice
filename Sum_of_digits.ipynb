{
  "nbformat": 4,
  "nbformat_minor": 0,
  "metadata": {
    "colab": {
      "name": "Untitled22.ipynb",
      "provenance": [],
      "authorship_tag": "ABX9TyNXSxInQiqumaK+HiilTUOq",
      "include_colab_link": true
    },
    "kernelspec": {
      "name": "python3",
      "display_name": "Python 3"
    },
    "language_info": {
      "name": "python"
    }
  },
  "cells": [
    {
      "cell_type": "markdown",
      "metadata": {
        "id": "view-in-github",
        "colab_type": "text"
      },
      "source": [
        "<a href=\"https://colab.research.google.com/github/jasmineA20/PEuler_practice/blob/main/Sum_of_digits.ipynb\" target=\"_parent\"><img src=\"https://colab.research.google.com/assets/colab-badge.svg\" alt=\"Open In Colab\"/></a>"
      ]
    },
    {
      "cell_type": "markdown",
      "metadata": {
        "id": "HFU1FgZxR6zn"
      },
      "source": [
        "2^15 = 32768 and the sum of its digits is 3 + 2 + 7 + 6 + 8 = 26.\n",
        "\n",
        "What is the sum of the digits of the number 2^1000?"
      ]
    },
    {
      "cell_type": "code",
      "metadata": {
        "id": "6OO5_miHSOUf"
      },
      "source": [
        "import math"
      ],
      "execution_count": null,
      "outputs": []
    },
    {
      "cell_type": "code",
      "metadata": {
        "id": "blILhRyERfH_"
      },
      "source": [
        "def sum_of_digits(a):\n",
        "  num = 0\n",
        "  while a > 0 : \n",
        "    num += int(a % 10) \n",
        "    a    = a//10\n",
        "  return num"
      ],
      "execution_count": null,
      "outputs": []
    },
    {
      "cell_type": "code",
      "metadata": {
        "colab": {
          "base_uri": "https://localhost:8080/"
        },
        "id": "2YZ1DjsJTobV",
        "outputId": "9e787354-3fea-43e0-a562-c6de0eafecad"
      },
      "source": [
        "a = 2**1000\n",
        "print(sum_of_digits(a))"
      ],
      "execution_count": null,
      "outputs": [
        {
          "output_type": "stream",
          "name": "stdout",
          "text": [
            "1366\n"
          ]
        }
      ]
    },
    {
      "cell_type": "code",
      "metadata": {
        "id": "_hKFUneYTris"
      },
      "source": [
        ""
      ],
      "execution_count": null,
      "outputs": []
    }
  ]
}